{
 "cells": [
  {
   "cell_type": "markdown",
   "id": "51519bdf",
   "metadata": {},
   "source": [
    "## IBM Employee Churn Dataset"
   ]
  },
  {
   "cell_type": "code",
   "execution_count": null,
   "id": "f0144b9f",
   "metadata": {},
   "outputs": [
    {
     "name": "stdout",
     "output_type": "stream",
     "text": [
      "Data inserted successfully\n",
      "Number of rows :  1470\n"
     ]
    }
   ],
   "source": [
    "import mysql.connector\n",
    "from mysql.connector import Error\n",
    "import pandas as pd\n",
    "\n",
    "db = mysql.connector.connect(\n",
    "  host=\"localhost\",\n",
    "  user=\"root\",\n",
    "  password=\"root\",\n",
    "  database=\"employee_churn\"\n",
    ")\n",
    "\n",
    "cursor = db.cursor()\n",
    "\n",
    "dataset = pd.read_csv(\"./datasets/IBM.csv\")\n",
    "columns = \", \".join(dataset.columns)\n",
    "holder = (\"%s, \" * len(dataset.columns))[:-2]\n",
    "\n",
    "table = \"ibm_employees\"\n",
    "query = \"INSERT INTO \" + table + \" (\"+ columns + \") VALUES (\"+ holder + \")\"\n",
    "\n",
    "try:\n",
    "    for row in dataset.itertuples(index=False, name=None):  \n",
    "        cursor.execute(query, row)\n",
    "\n",
    "    db.commit()\n",
    "    print(\"Data inserted successfully\")\n",
    "\n",
    "except Error as e:\n",
    "    print(\"Error inserting rows : \", e)\n",
    "\n",
    "def printTableLength(cursor):\n",
    "    query = \"SELECT COUNT(*) FROM ibm_employees\"\n",
    "    cursor.execute(query)\n",
    "    row_count = cursor.fetchone()[0]\n",
    "    print(\"Number of rows : \", row_count)\n",
    "\n",
    "printTableLength(cursor)\n",
    "\n",
    "cursor.close()\n",
    "db.close()"
   ]
  },
  {
   "cell_type": "markdown",
   "id": "1cf7263b",
   "metadata": {},
   "source": [
    "## HR Employees Dataset"
   ]
  },
  {
   "cell_type": "code",
   "execution_count": null,
   "id": "1c404ed5",
   "metadata": {},
   "outputs": [
    {
     "name": "stdout",
     "output_type": "stream",
     "text": [
      "Data inserted successfully\n",
      "Number of rows :  14999\n"
     ]
    }
   ],
   "source": [
    "db = mysql.connector.connect(\n",
    "  host=\"localhost\",\n",
    "  user=\"root\",\n",
    "  password=\"root\",\n",
    "  database=\"employee_churn\"\n",
    ")\n",
    "\n",
    "cursor = db.cursor()\n",
    "\n",
    "dataset = pd.read_csv(\"./datasets/HR_Dataset.csv\")\n",
    "columns = \", \".join(dataset.columns)\n",
    "columns = columns.replace(\"left\", \"left_status\")\n",
    "\n",
    "holder = (\"%s, \" * len(dataset.columns))[:-2]\n",
    "\n",
    "table = \"hr_employees\"\n",
    "query = \"INSERT INTO \" + table + \" (\"+ columns + \") VALUES (\"+ holder + \")\"\n",
    "\n",
    "try:\n",
    "    for row in dataset.itertuples(index=False, name=None):  \n",
    "        cursor.execute(query, row)\n",
    "\n",
    "    db.commit()\n",
    "    print(\"Data inserted successfully\")\n",
    "\n",
    "except Error as e:\n",
    "    print(\"Error inserting rows : \", e)\n",
    "\n",
    "def printTableLength(cursor):\n",
    "    query = \"SELECT COUNT(*) FROM hr_employees\"\n",
    "    cursor.execute(query)\n",
    "    row_count = cursor.fetchone()[0]\n",
    "    print(\"Number of rows : \", row_count)\n",
    "\n",
    "printTableLength(cursor)\n",
    "\n",
    "cursor.close()\n",
    "db.close()"
   ]
  },
  {
   "cell_type": "markdown",
   "id": "323bd600",
   "metadata": {},
   "source": [
    "## MFG 10 Years Termination Dataset"
   ]
  },
  {
   "cell_type": "code",
   "execution_count": null,
   "id": "3209ba29",
   "metadata": {},
   "outputs": [
    {
     "name": "stdout",
     "output_type": "stream",
     "text": [
      "Data inserted successfully\n",
      "Number of rows :  49653\n"
     ]
    }
   ],
   "source": [
    "db = mysql.connector.connect(\n",
    "  host=\"localhost\",\n",
    "  user=\"root\",\n",
    "  password=\"root\",\n",
    "  database=\"employee_churn\"\n",
    ")\n",
    "\n",
    "cursor = db.cursor()\n",
    "\n",
    "dataset = pd.read_csv(\"./datasets/MFG10YearTerminationData.csv\")\n",
    "columns = \", \".join(dataset.columns)\n",
    "\n",
    "holder = (\"%s, \" * len(dataset.columns))[:-2]\n",
    "\n",
    "table = \"mfg_employees\"\n",
    "query = \"INSERT INTO \" + table + \" (\"+ columns + \") VALUES (\"+ holder + \")\"\n",
    "\n",
    "try:\n",
    "    for row in dataset.itertuples(index=False, name=None):  \n",
    "        cursor.execute(query, row)\n",
    "\n",
    "    db.commit()\n",
    "    print(\"Data inserted successfully\")\n",
    "\n",
    "except Error as e:\n",
    "    print(\"Error inserting rows : \", e)\n",
    "\n",
    "def printTableLength(cursor):\n",
    "    query = \"SELECT COUNT(*) FROM mfg_employees\"\n",
    "    cursor.execute(query)\n",
    "    row_count = cursor.fetchone()[0]\n",
    "    print(\"Number of rows : \", row_count)\n",
    "\n",
    "printTableLength(cursor)\n",
    "\n",
    "cursor.close()\n",
    "db.close()"
   ]
  },
  {
   "cell_type": "markdown",
   "id": "4c756d86",
   "metadata": {},
   "source": [
    "## Turnover Dataset"
   ]
  },
  {
   "cell_type": "code",
   "execution_count": null,
   "id": "03113e96",
   "metadata": {},
   "outputs": [
    {
     "name": "stdout",
     "output_type": "stream",
     "text": [
      "Data inserted successfully\n",
      "Number of rows :  1129\n"
     ]
    }
   ],
   "source": [
    "db = mysql.connector.connect(\n",
    "  host=\"localhost\",\n",
    "  user=\"root\",\n",
    "  password=\"root\",\n",
    "  database=\"employee_churn\"\n",
    ")\n",
    "\n",
    "cursor = db.cursor()\n",
    "\n",
    "dataset = pd.read_csv(\"./datasets/turnover.csv\", encoding=\"unicode_escape\")\n",
    "columns = \", \".join(dataset.columns)\n",
    "\n",
    "holder = (\"%s, \" * len(dataset.columns))[:-2]\n",
    "\n",
    "table = \"turnover_employees\"\n",
    "query = \"INSERT INTO \" + table + \" (\"+ columns + \") VALUES (\"+ holder + \")\"\n",
    "\n",
    "try:\n",
    "    for row in dataset.itertuples(index=False, name=None):  \n",
    "        cursor.execute(query, row)\n",
    "\n",
    "    db.commit()\n",
    "    print(\"Data inserted successfully\")\n",
    "\n",
    "except Error as e:\n",
    "    print(\"Error inserting rows : \", e)\n",
    "\n",
    "def printTableLength(cursor):\n",
    "    query = \"SELECT COUNT(*) FROM turnover_employees\"\n",
    "    cursor.execute(query)\n",
    "    row_count = cursor.fetchone()[0]\n",
    "    print(\"Number of rows : \", row_count)\n",
    "\n",
    "printTableLength(cursor)\n",
    "\n",
    "cursor.close()\n",
    "db.close()"
   ]
  }
 ],
 "metadata": {
  "kernelspec": {
   "display_name": "Python 3",
   "language": "python",
   "name": "python3"
  },
  "language_info": {
   "codemirror_mode": {
    "name": "ipython",
    "version": 3
   },
   "file_extension": ".py",
   "mimetype": "text/x-python",
   "name": "python",
   "nbconvert_exporter": "python",
   "pygments_lexer": "ipython3",
   "version": "3.13.1"
  }
 },
 "nbformat": 4,
 "nbformat_minor": 5
}
